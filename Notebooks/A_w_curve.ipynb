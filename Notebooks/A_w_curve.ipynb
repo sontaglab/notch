{
 "cells": [
  {
   "cell_type": "code",
   "execution_count": 1,
   "metadata": {},
   "outputs": [],
   "source": [
    "using ModelingToolkit\n",
    "using Catalyst\n",
    "using Latexify"
   ]
  },
  {
   "cell_type": "code",
   "execution_count": 5,
   "metadata": {},
   "outputs": [
    {
     "data": {
      "text/latex": [
       "\\begin{align}\n",
       "\\frac{dR(t)}{dt} =& k2 \\mathrm{MR}\\left( t \\right) - A \\left( 1 + \\cos\\left( t \\omega \\right) \\right) R\\left( t \\right) - k1 M\\left( t \\right) R\\left( t \\right) + \\mathrm{NR}\\left( t \\right) \\\\\n",
       "\\frac{dNR(t)}{dt} =&  - \\mathrm{NR}\\left( t \\right) + A \\left( 1 + \\cos\\left( t \\omega \\right) \\right) R\\left( t \\right) \\\\\n",
       "\\frac{dM(t)}{dt} =& k2 \\mathrm{MR}\\left( t \\right) - k1 M\\left( t \\right) R\\left( t \\right) \\\\\n",
       "\\frac{dMR(t)}{dt} =&  - k2 \\mathrm{MR}\\left( t \\right) + k1 M\\left( t \\right) R\\left( t \\right) \\\\\n",
       "\\frac{dH4(t)}{dt} =& \\mathrm{H0}\\left( t \\right) \\mathrm{KMT}\\left( t \\right) - d \\mathrm{H4}\\left( t \\right) \\mathrm{KDM5A}\\left( t \\right) \\\\\n",
       "\\frac{dKDM5A(t)}{dt} =& {\\alpha}1 + k \\mathrm{H27}\\left( t \\right) + k0 \\mathrm{MR}\\left( t \\right) - \\delta \\mathrm{KDM5A}\\left( t \\right) \\\\\n",
       "\\frac{dH0(t)}{dt} =& \\mathrm{H27}\\left( t \\right) \\mathrm{KDM6A}\\left( t \\right) - \\mathrm{H0}\\left( t \\right) \\mathrm{KMT}\\left( t \\right) + d \\mathrm{H4}\\left( t \\right) \\mathrm{KDM5A}\\left( t \\right) - m \\mathrm{H0}\\left( t \\right) \\mathrm{PRC2}\\left( t \\right) \\\\\n",
       "\\frac{dPRC2(t)}{dt} =& {\\alpha}1 + p \\mathrm{H27}\\left( t \\right) - \\delta \\mathrm{PRC2}\\left( t \\right) \\\\\n",
       "\\frac{dH27(t)}{dt} =&  - \\mathrm{H27}\\left( t \\right) \\mathrm{KDM6A}\\left( t \\right) + m \\mathrm{H0}\\left( t \\right) \\mathrm{PRC2}\\left( t \\right) \\\\\n",
       "\\frac{dKDM6A(t)}{dt} =& {\\alpha}1 + kk \\mathrm{H4}\\left( t \\right) - \\delta \\mathrm{KDM6A}\\left( t \\right) \\\\\n",
       "\\frac{dKMT(t)}{dt} =& {\\alpha}1 + pp \\mathrm{H4}\\left( t \\right) - \\delta \\mathrm{KMT}\\left( t \\right)\n",
       "\\end{align}\n"
      ],
      "text/plain": [
       "\u001b[0m\u001b[1mModel sys with 11 \u001b[22m\u001b[0m\u001b[1mequations\u001b[22m\n",
       "\u001b[0m\u001b[1mStates (11):\u001b[22m\n",
       "  R(t)\n",
       "  NR(t)\n",
       "  M(t)\n",
       "  MR(t)\n",
       "⋮\n",
       "\u001b[0m\u001b[1mParameters (13):\u001b[22m\n",
       "  A\n",
       "  ω\n",
       "  k1\n",
       "  k2\n",
       "⋮"
      ]
     },
     "metadata": {},
     "output_type": "display_data"
    }
   ],
   "source": [
    "\t@parameters k0 k1 k2 d m p k pp kk δ α1 A ω t\n",
    "\t@variables R(t) NR(t) M(t) MR(t) KDM5A(t) H4(t) H0(t) PRC2(t) H27(t) KDM6A(t) KMT(t) \n",
    "\tD = Differential(t)\n",
    "\t##\n",
    "\teqs = [ D(R)     ~ -A*(1+cos(ω*t))*R + NR - k1*M*R + k2*MR,\n",
    "\t        D(NR)    ~ A*(1+cos(ω*t))*R - NR,\n",
    "\t        D(M)     ~ -k1*M*R + k2*MR,\n",
    "\t        D(MR)    ~ k1*M*R - k2*MR, \n",
    "\t        D(H4)    ~ -d*H4*KDM5A + H0*KMT,\n",
    "\t        D(KDM5A) ~ k0*MR + k*H27 - δ*KDM5A + α1,\n",
    "\t        D(H0)    ~ d*H4*KDM5A - m*H0*PRC2 + H27*KDM6A - H0*KMT,\n",
    "\t        D(PRC2)  ~ p*H27 - δ*PRC2 + α1,\n",
    "\t        D(H27)   ~ m*H0*PRC2 - H27*KDM6A, \n",
    "\t        D(KDM6A) ~ kk*H4 - δ*KDM6A + α1,\n",
    "\t        D(KMT)   ~ pp*H4 - δ*KMT + α1  ]\n",
    "\t@named sys = ODESystem(eqs)"
   ]
  },
  {
   "cell_type": "code",
   "execution_count": 7,
   "metadata": {},
   "outputs": [
    {
     "data": {
      "text/latex": [
       "\\begin{equation}\n",
       "c \\left( a\\left( t \\right) \\cos\\left( t \\omega \\right) + b\\left( t \\right) \\sin\\left( t \\omega \\right) \\right) + \\left( a\\left( t \\right) \\cos\\left( t \\omega \\right) + b\\left( t \\right) \\sin\\left( t \\omega \\right) \\right)^{3} \\beta + \\cos\\left( t \\omega \\right) \\mathrm{\\frac{d}{d t}}\\left( \\frac{da(t)}{dt} \\right) + \\sin\\left( t \\omega \\right) \\mathrm{\\frac{d}{d t}}\\left( \\frac{db(t)}{dt} \\right) - d \\left( \\cos\\left( t \\omega \\right) \\frac{da(t)}{dt} + \\sin\\left( t \\omega \\right) \\frac{db(t)}{dt} + \\omega b\\left( t \\right) \\cos\\left( t \\omega \\right) - \\omega a\\left( t \\right) \\sin\\left( t \\omega \\right) \\right) - 2 \\omega \\sin\\left( t \\omega \\right) \\frac{da(t)}{dt} + 2 \\omega \\cos\\left( t \\omega \\right) \\frac{db(t)}{dt} - \\omega^{2} a\\left( t \\right) \\cos\\left( t \\omega \\right) - \\omega^{2} b\\left( t \\right) \\sin\\left( t \\omega \\right)\n",
       "\\end{equation}\n"
      ],
      "text/plain": [
       "c*(a(t)*cos(t*ω) + b(t)*sin(t*ω)) + β*((a(t)*cos(t*ω) + b(t)*sin(t*ω))^3) + cos(t*ω)*Differential(t)(Differential(t)(a(t))) + sin(t*ω)*Differential(t)(Differential(t)(b(t))) + 2ω*cos(t*ω)*Differential(t)(b(t)) - d*(cos(t*ω)*Differential(t)(a(t)) + sin(t*ω)*Differential(t)(b(t)) + ω*b(t)*cos(t*ω) - ω*a(t)*sin(t*ω)) - 2ω*sin(t*ω)*Differential(t)(a(t)) - (ω^2)*a(t)*cos(t*ω) - (ω^2)*b(t)*sin(t*ω)"
      ]
     },
     "metadata": {},
     "output_type": "display_data"
    }
   ],
   "source": [
    "eq_expression = expand_derivatives(D(D(x)) - d*D(x) + c*x + β*x^3)"
   ]
  },
  {
   "cell_type": "code",
   "execution_count": 11,
   "metadata": {},
   "outputs": [
    {
     "data": {
      "text/latex": [
       "\\begin{equation}\n",
       "\\left[\n",
       "\\begin{array}{ccccccccccc}\n",
       " - A \\left( 1 + \\cos\\left( t \\omega \\right) \\right) - k1 M\\left( t \\right) & 1 &  - k1 R\\left( t \\right) & k2 & 0 & 0 & 0 & 0 & 0 & 0 & 0 \\\\\n",
       "A \\left( 1 + \\cos\\left( t \\omega \\right) \\right) & -1 & 0 & 0 & 0 & 0 & 0 & 0 & 0 & 0 & 0 \\\\\n",
       " - k1 M\\left( t \\right) & 0 &  - k1 R\\left( t \\right) & k2 & 0 & 0 & 0 & 0 & 0 & 0 & 0 \\\\\n",
       "k1 M\\left( t \\right) & 0 & k1 R\\left( t \\right) &  - k2 & 0 & 0 & 0 & 0 & 0 & 0 & 0 \\\\\n",
       "0 & 0 & 0 & 0 &  - d \\mathrm{KDM5A}\\left( t \\right) &  - d \\mathrm{H4}\\left( t \\right) & \\mathrm{KMT}\\left( t \\right) & 0 & 0 & 0 & \\mathrm{H0}\\left( t \\right) \\\\\n",
       "0 & 0 & 0 & k0 & 0 &  - \\delta & 0 & 0 & k & 0 & 0 \\\\\n",
       "0 & 0 & 0 & 0 & d \\mathrm{KDM5A}\\left( t \\right) & d \\mathrm{H4}\\left( t \\right) &  - \\mathrm{KMT}\\left( t \\right) - m \\mathrm{PRC2}\\left( t \\right) &  - m \\mathrm{H0}\\left( t \\right) & \\mathrm{KDM6A}\\left( t \\right) & \\mathrm{H27}\\left( t \\right) &  - \\mathrm{H0}\\left( t \\right) \\\\\n",
       "0 & 0 & 0 & 0 & 0 & 0 & 0 &  - \\delta & p & 0 & 0 \\\\\n",
       "0 & 0 & 0 & 0 & 0 & 0 & m \\mathrm{PRC2}\\left( t \\right) & m \\mathrm{H0}\\left( t \\right) &  - \\mathrm{KDM6A}\\left( t \\right) &  - \\mathrm{H27}\\left( t \\right) & 0 \\\\\n",
       "0 & 0 & 0 & 0 & kk & 0 & 0 & 0 & 0 &  - \\delta & 0 \\\\\n",
       "0 & 0 & 0 & 0 & pp & 0 & 0 & 0 & 0 & 0 &  - \\delta \\\\\n",
       "\\end{array}\n",
       "\\right]\n",
       "\\end{equation}\n"
      ],
      "text/plain": [
       "L\"\\begin{equation}\n",
       "\\left[\n",
       "\\begin{array}{ccccccccccc}\n",
       " - A \\left( 1 + \\cos\\left( t \\omega \\right) \\right) - k1 M\\left( t \\right) & 1 &  - k1 R\\left( t \\right) & k2 & 0 & 0 & 0 & 0 & 0 & 0 & 0 \\\\\n",
       "A \\left( 1 + \\cos\\left( t \\omega \\right) \\right) & -1 & 0 & 0 & 0 & 0 & 0 & 0 & 0 & 0 & 0 \\\\\n",
       " - k1 M\\left( t \\right) & 0 &  - k1 R\\left( t \\right) & k2 & 0 & 0 & 0 & 0 & 0 & 0 & 0 \\\\\n",
       "k1 M\\left( t \\right) & 0 & k1 R\\left( t \\right) &  - k2 & 0 & 0 & 0 & 0 & 0 & 0 & 0 \\\\\n",
       "0 & 0 & 0 & 0 &  - d \\mathrm{KDM5A}\\left( t \\right) &  - d \\mathrm{H4}\\left( t \\right) & \\mathrm{KMT}\\left( t \\right) & 0 & 0 & 0 & \\mathrm{H0}\\left( t \\right) \\\\\n",
       "0 & 0 & 0 & k0 & 0 &  - \\delta & 0 & 0 & k & 0 & 0 \\\\\n",
       "0 & 0 & 0 & 0 & d \\mathrm{KDM5A}\\left( t \\right) & d \\mathrm{H4}\\left( t \\right) &  - \\mathrm{KMT}\\left( t \\right) - m \\mathrm{PRC2}\\left( t \\right) &  - m \\mathrm{H0}\\left( t \\right) & \\mathrm{KDM6A}\\left( t \\right) & \\mathrm{H27}\\left( t \\right) &  - \\mathrm{H0}\\left( t \\right) \\\\\n",
       "0 & 0 & 0 & 0 & 0 & 0 & 0 &  - \\delta & p & 0 & 0 \\\\\n",
       "0 & 0 & 0 & 0 & 0 & 0 & m \\mathrm{PRC2}\\left( t \\right) & m \\mathrm{H0}\\left( t \\right) &  - \\mathrm{KDM6A}\\left( t \\right) &  - \\mathrm{H27}\\left( t \\right) & 0 \\\\\n",
       "0 & 0 & 0 & 0 & kk & 0 & 0 & 0 & 0 &  - \\delta & 0 \\\\\n",
       "0 & 0 & 0 & 0 & pp & 0 & 0 & 0 & 0 & 0 &  - \\delta \\\\\n",
       "\\end{array}\n",
       "\\right]\n",
       "\\end{equation}\n",
       "\""
      ]
     },
     "metadata": {},
     "output_type": "display_data"
    }
   ],
   "source": [
    "latexify(calculate_jacobian(sys))"
   ]
  },
  {
   "cell_type": "markdown",
   "metadata": {},
   "source": [
    "## Using SymPy for **symbolic expression**"
   ]
  },
  {
   "cell_type": "code",
   "execution_count": 12,
   "metadata": {},
   "outputs": [
    {
     "name": "stderr",
     "output_type": "stream",
     "text": [
      "WARNING: using SymPy.Differential in module Main conflicts with an existing identifier.\n",
      "WARNING: using SymPy.expand in module Main conflicts with an existing identifier.\n"
     ]
    }
   ],
   "source": [
    "using SymPy "
   ]
  },
  {
   "cell_type": "code",
   "execution_count": 13,
   "metadata": {},
   "outputs": [
    {
     "data": {
      "text/plain": [
       "(k0, k1, k2, d, m, p, k, pp, kk, δ, α1, A, ω, t)"
      ]
     },
     "metadata": {},
     "output_type": "display_data"
    }
   ],
   "source": [
    "R, NR, M, MR, KDM5A, H4, H0, PRC2, H27, KDM6A, KMT  = SymPy.@vars R NR M MR KDM5A H4 H0 PRC2 H27 KDM6A KMT \n",
    "k0, k1, k2, d, m, p, k, pp, kk, δ, α1, A, ω, t = SymPy.@vars k0 k1 k2 d m p k pp kk δ α1 A ω t"
   ]
  },
  {
   "cell_type": "code",
   "execution_count": 33,
   "metadata": {},
   "outputs": [
    {
     "data": {
      "text/latex": [
       "$\\left[ \\begin{array}{r}- A R \\left(\\cos{\\left(t ω \\right)} + 1\\right) - M R k_{1} + MR k_{2} + NR\\\\A R \\left(\\cos{\\left(t ω \\right)} + 1\\right) - NR\\\\- M R k_{1} + MR k_{2}\\\\M R k_{1} - MR k_{2}\\end{array} \\right]$\n"
      ],
      "text/plain": [
       "4-element Vector{SymPy.Sym}:\n",
       " -A*R*(cos(t*ω) + 1) - M*R*k1 + MR*k2 + NR\n",
       "                   A*R*(cos(t*ω) + 1) - NR\n",
       "                           -M*R*k1 + MR*k2\n",
       "                            M*R*k1 - MR*k2"
      ]
     },
     "metadata": {},
     "output_type": "display_data"
    }
   ],
   "source": [
    "module1 = [ -A*(1+cos(ω*t))*R + NR - k1*M*R + k2*MR,\n",
    "            A*(1+cos(ω*t))*R - NR,\n",
    "            -k1*M*R + k2*MR,\n",
    "            k1*M*R - k2*MR]"
   ]
  },
  {
   "cell_type": "code",
   "execution_count": 37,
   "metadata": {},
   "outputs": [
    {
     "data": {
      "text/plain": [
       "1-element Vector{NTuple{4, SymPy.Sym}}:\n",
       " (R, A*R*(cos(t*ω) + 1), M, M*R*k1/k2)"
      ]
     },
     "metadata": {},
     "output_type": "display_data"
    }
   ],
   "source": [
    "sig_module1 = SymPy.solve(module1, [R, NR, M, MR])\n",
    "# MR signal \n",
    "sig_module1"
   ]
  },
  {
   "cell_type": "code",
   "execution_count": null,
   "metadata": {},
   "outputs": [],
   "source": []
  },
  {
   "cell_type": "code",
   "execution_count": null,
   "metadata": {},
   "outputs": [],
   "source": []
  },
  {
   "cell_type": "code",
   "execution_count": null,
   "metadata": {},
   "outputs": [],
   "source": []
  },
  {
   "cell_type": "code",
   "execution_count": null,
   "metadata": {},
   "outputs": [],
   "source": []
  },
  {
   "cell_type": "code",
   "execution_count": 17,
   "metadata": {},
   "outputs": [
    {
     "data": {
      "text/latex": [
       "$\\left[ \\begin{array}{r}H_{0} KMT - H_{4} KDM5A d\\\\H_{27} k - KDM5A δ + MR k_{0} + α_{1}\\\\- H_{0} KMT - H_{0} PRC_{2} m + H_{27} KDM6A + H_{4} KDM5A d\\\\H_{27} p - PRC_{2} δ + α_{1}\\\\H_{0} PRC_{2} m - H_{27} KDM6A\\\\H_{4} kk - KDM6A δ + α_{1}\\\\H_{4} pp - KMT δ + α_{1}\\end{array} \\right]$\n"
      ],
      "text/plain": [
       "7-element Vector{SymPy.Sym}:\n",
       "                          H0*KMT - H4*KDM5A*d\n",
       "                 H27*k - KDM5A*δ + MR*k0 + α1\n",
       " -H0*KMT - H0*PRC2*m + H27*KDM6A + H4*KDM5A*d\n",
       "                          H27*p - PRC2*δ + α1\n",
       "                        H0*PRC2*m - H27*KDM6A\n",
       "                         H4*kk - KDM6A*δ + α1\n",
       "                           H4*pp - KMT*δ + α1"
      ]
     },
     "metadata": {},
     "output_type": "display_data"
    }
   ],
   "source": [
    "# module 2\n",
    "rhs = [  -d*H4*KDM5A + H0*KMT,\n",
    "\t     k0*MR + k*H27 - δ*KDM5A + α1,\n",
    "\t     d*H4*KDM5A - m*H0*PRC2 + H27*KDM6A - H0*KMT,\n",
    "\t     p*H27 - δ*PRC2 + α1,\n",
    "\t     m*H0*PRC2 - H27*KDM6A, \n",
    "\t     kk*H4 - δ*KDM6A + α1,\n",
    "\t     pp*H4 - δ*KMT + α1  ]"
   ]
  },
  {
   "cell_type": "code",
   "execution_count": 20,
   "metadata": {},
   "outputs": [
    {
     "data": {
      "text/plain": [
       "2-element Vector{NTuple{7, SymPy.Sym}}:\n",
       " ((KDM6A^2*pp*δ^2 + KDM6A*MR*d*k0*m*p*δ - KDM6A*d*k*m*α1*δ + KDM6A*d*m*p*α1*δ + KDM6A*kk*α1*δ - KDM6A*pp*α1*δ - MR*d*k0*m*p*α1 + d*k*m*α1^2 - d*m*p*α1^2 - sqrt(KDM6A^4*pp^2*δ^4 - 2*KDM6A^3*MR*d*k0*m*p*pp*δ^3 - 2*KDM6A^3*d*k*m*pp*α1*δ^3 - 2*KDM6A^3*d*m*p*pp*α1*δ^3 + 2*KDM6A^3*kk*pp*α1*δ^3 - 2*KDM6A^3*pp^2*α1*δ^3 + KDM6A^2*MR^2*d^2*k0^2*m^2*p^2*δ^2 - 2*KDM6A^2*MR*d^2*k*k0*m^2*p*α1*δ^2 + 2*KDM6A^2*MR*d^2*k0*m^2*p^2*α1*δ^2 - 2*KDM6A^2*MR*d*k0*kk*m*p*α1*δ^2 + 4*KDM6A^2*MR*d*k0*m*p*pp*α1*δ^2 + KDM6A^2*d^2*k^2*m^2*α1^2*δ^2 - 2*KDM6A^2*d^2*k*m^2*p*α1^2*δ^2 + KDM6A^2*d^2*m^2*p^2*α1^2*δ^2 - 2*KDM6A^2*d*k*kk*m*α1^2*δ^2 + 4*KDM6A^2*d*k*m*pp*α1^2*δ^2 - 2*KDM6A^2*d*kk*m*p*α1^2*δ^2 + 4*KDM6A^2*d*m*p*pp*α1^2*δ^2 + KDM6A^2*kk^2*α1^2*δ^2 - 2*KDM6A^2*kk*pp*α1^2*δ^2 + KDM6A^2*pp^2*α1^2*δ^2 - 2*KDM6A*MR^2*d^2*k0^2*m^2*p^2*α1*δ + 4*KDM6A*MR*d^2*k*k0*m^2*p*α1^2*δ - 4*KDM6A*MR*d^2*k0*m^2*p^2*α1^2*δ + 2*KDM6A*MR*d*k0*kk*m*p*α1^2*δ - 2*KDM6A*MR*d*k0*m*p*pp*α1^2*δ - 2*KDM6A*d^2*k^2*m^2*α1^3*δ + 4*KDM6A*d^2*k*m^2*p*α1^3*δ - 2*KDM6A*d^2*m^2*p^2*α1^3*δ + 2*KDM6A*d*k*kk*m*α1^3*δ - 2*KDM6A*d*k*m*pp*α1^3*δ + 2*KDM6A*d*kk*m*p*α1^3*δ - 2*KDM6A*d*m*p*pp*α1^3*δ + MR^2*d^2*k0^2*m^2*p^2*α1^2 - 2*MR*d^2*k*k0*m^2*p*α1^3 + 2*MR*d^2*k0*m^2*p^2*α1^3 + d^2*k^2*m^2*α1^4 - 2*d^2*k*m^2*p*α1^4 + d^2*m^2*p^2*α1^4))/(2*d*m*p*δ*(KDM6A*δ - α1)), (KDM6A*δ - α1)/kk, (KDM6A^2*pp*δ^2 + KDM6A*MR*d*k0*m*p*δ - KDM6A*d*k*m*α1*δ + KDM6A*d*m*p*α1*δ + KDM6A*kk*α1*δ - KDM6A*pp*α1*δ - MR*d*k0*m*p*α1 + d*k*m*α1^2 - d*m*p*α1^2 - sqrt(KDM6A^4*pp^2*δ^4 - 2*KDM6A^3*MR*d*k0*m*p*pp*δ^3 - 2*KDM6A^3*d*k*m*pp*α1*δ^3 - 2*KDM6A^3*d*m*p*pp*α1*δ^3 + 2*KDM6A^3*kk*pp*α1*δ^3 - 2*KDM6A^3*pp^2*α1*δ^3 + KDM6A^2*MR^2*d^2*k0^2*m^2*p^2*δ^2 - 2*KDM6A^2*MR*d^2*k*k0*m^2*p*α1*δ^2 + 2*KDM6A^2*MR*d^2*k0*m^2*p^2*α1*δ^2 - 2*KDM6A^2*MR*d*k0*kk*m*p*α1*δ^2 + 4*KDM6A^2*MR*d*k0*m*p*pp*α1*δ^2 + KDM6A^2*d^2*k^2*m^2*α1^2*δ^2 - 2*KDM6A^2*d^2*k*m^2*p*α1^2*δ^2 + KDM6A^2*d^2*m^2*p^2*α1^2*δ^2 - 2*KDM6A^2*d*k*kk*m*α1^2*δ^2 + 4*KDM6A^2*d*k*m*pp*α1^2*δ^2 - 2*KDM6A^2*d*kk*m*p*α1^2*δ^2 + 4*KDM6A^2*d*m*p*pp*α1^2*δ^2 + KDM6A^2*kk^2*α1^2*δ^2 - 2*KDM6A^2*kk*pp*α1^2*δ^2 + KDM6A^2*pp^2*α1^2*δ^2 - 2*KDM6A*MR^2*d^2*k0^2*m^2*p^2*α1*δ + 4*KDM6A*MR*d^2*k*k0*m^2*p*α1^2*δ - 4*KDM6A*MR*d^2*k0*m^2*p^2*α1^2*δ + 2*KDM6A*MR*d*k0*kk*m*p*α1^2*δ - 2*KDM6A*MR*d*k0*m*p*pp*α1^2*δ - 2*KDM6A*d^2*k^2*m^2*α1^3*δ + 4*KDM6A*d^2*k*m^2*p*α1^3*δ - 2*KDM6A*d^2*m^2*p^2*α1^3*δ + 2*KDM6A*d*k*kk*m*α1^3*δ - 2*KDM6A*d*k*m*pp*α1^3*δ + 2*KDM6A*d*kk*m*p*α1^3*δ - 2*KDM6A*d*m*p*pp*α1^3*δ + MR^2*d^2*k0^2*m^2*p^2*α1^2 - 2*MR*d^2*k*k0*m^2*p*α1^3 + 2*MR*d^2*k0*m^2*p^2*α1^3 + d^2*k^2*m^2*α1^4 - 2*d^2*k*m^2*p*α1^4 + d^2*m^2*p^2*α1^4))/(2*m*p*(KDM6A*pp*δ + kk*α1 - pp*α1)), (KDM6A^2*pp*δ^2 - KDM6A*MR*d*k0*m*p*δ + KDM6A*d*k*m*α1*δ - KDM6A*d*m*p*α1*δ + KDM6A*kk*α1*δ - KDM6A*pp*α1*δ + MR*d*k0*m*p*α1 - d*k*m*α1^2 + d*m*p*α1^2 - sqrt(KDM6A^4*pp^2*δ^4 - 2*KDM6A^3*MR*d*k0*m*p*pp*δ^3 - 2*KDM6A^3*d*k*m*pp*α1*δ^3 - 2*KDM6A^3*d*m*p*pp*α1*δ^3 + 2*KDM6A^3*kk*pp*α1*δ^3 - 2*KDM6A^3*pp^2*α1*δ^3 + KDM6A^2*MR^2*d^2*k0^2*m^2*p^2*δ^2 - 2*KDM6A^2*MR*d^2*k*k0*m^2*p*α1*δ^2 + 2*KDM6A^2*MR*d^2*k0*m^2*p^2*α1*δ^2 - 2*KDM6A^2*MR*d*k0*kk*m*p*α1*δ^2 + 4*KDM6A^2*MR*d*k0*m*p*pp*α1*δ^2 + KDM6A^2*d^2*k^2*m^2*α1^2*δ^2 - 2*KDM6A^2*d^2*k*m^2*p*α1^2*δ^2 + KDM6A^2*d^2*m^2*p^2*α1^2*δ^2 - 2*KDM6A^2*d*k*kk*m*α1^2*δ^2 + 4*KDM6A^2*d*k*m*pp*α1^2*δ^2 - 2*KDM6A^2*d*kk*m*p*α1^2*δ^2 + 4*KDM6A^2*d*m*p*pp*α1^2*δ^2 + KDM6A^2*kk^2*α1^2*δ^2 - 2*KDM6A^2*kk*pp*α1^2*δ^2 + KDM6A^2*pp^2*α1^2*δ^2 - 2*KDM6A*MR^2*d^2*k0^2*m^2*p^2*α1*δ + 4*KDM6A*MR*d^2*k*k0*m^2*p*α1^2*δ - 4*KDM6A*MR*d^2*k0*m^2*p^2*α1^2*δ + 2*KDM6A*MR*d*k0*kk*m*p*α1^2*δ - 2*KDM6A*MR*d*k0*m*p*pp*α1^2*δ - 2*KDM6A*d^2*k^2*m^2*α1^3*δ + 4*KDM6A*d^2*k*m^2*p*α1^3*δ - 2*KDM6A*d^2*m^2*p^2*α1^3*δ + 2*KDM6A*d*k*kk*m*α1^3*δ - 2*KDM6A*d*k*m*pp*α1^3*δ + 2*KDM6A*d*kk*m*p*α1^3*δ - 2*KDM6A*d*m*p*pp*α1^3*δ + MR^2*d^2*k0^2*m^2*p^2*α1^2 - 2*MR*d^2*k*k0*m^2*p*α1^3 + 2*MR*d^2*k0*m^2*p^2*α1^3 + d^2*k^2*m^2*α1^4 - 2*d^2*k*m^2*p*α1^4 + d^2*m^2*p^2*α1^4))/(2*d*k*m*δ*(KDM6A*δ - α1)), (KDM6A^2*pp*δ^2 - KDM6A*MR*d*k0*m*p*δ - KDM6A*d*k*m*α1*δ - KDM6A*d*m*p*α1*δ + KDM6A*kk*α1*δ - KDM6A*pp*α1*δ + MR*d*k0*m*p*α1 + d*k*m*α1^2 + d*m*p*α1^2 - sqrt(KDM6A^4*pp^2*δ^4 - 2*KDM6A^3*MR*d*k0*m*p*pp*δ^3 - 2*KDM6A^3*d*k*m*pp*α1*δ^3 - 2*KDM6A^3*d*m*p*pp*α1*δ^3 + 2*KDM6A^3*kk*pp*α1*δ^3 - 2*KDM6A^3*pp^2*α1*δ^3 + KDM6A^2*MR^2*d^2*k0^2*m^2*p^2*δ^2 - 2*KDM6A^2*MR*d^2*k*k0*m^2*p*α1*δ^2 + 2*KDM6A^2*MR*d^2*k0*m^2*p^2*α1*δ^2 - 2*KDM6A^2*MR*d*k0*kk*m*p*α1*δ^2 + 4*KDM6A^2*MR*d*k0*m*p*pp*α1*δ^2 + KDM6A^2*d^2*k^2*m^2*α1^2*δ^2 - 2*KDM6A^2*d^2*k*m^2*p*α1^2*δ^2 + KDM6A^2*d^2*m^2*p^2*α1^2*δ^2 - 2*KDM6A^2*d*k*kk*m*α1^2*δ^2 + 4*KDM6A^2*d*k*m*pp*α1^2*δ^2 - 2*KDM6A^2*d*kk*m*p*α1^2*δ^2 + 4*KDM6A^2*d*m*p*pp*α1^2*δ^2 + KDM6A^2*kk^2*α1^2*δ^2 - 2*KDM6A^2*kk*pp*α1^2*δ^2 + KDM6A^2*pp^2*α1^2*δ^2 - 2*KDM6A*MR^2*d^2*k0^2*m^2*p^2*α1*δ + 4*KDM6A*MR*d^2*k*k0*m^2*p*α1^2*δ - 4*KDM6A*MR*d^2*k0*m^2*p^2*α1^2*δ + 2*KDM6A*MR*d*k0*kk*m*p*α1^2*δ - 2*KDM6A*MR*d*k0*m*p*pp*α1^2*δ - 2*KDM6A*d^2*k^2*m^2*α1^3*δ + 4*KDM6A*d^2*k*m^2*p*α1^3*δ - 2*KDM6A*d^2*m^2*p^2*α1^3*δ + 2*KDM6A*d*k*kk*m*α1^3*δ - 2*KDM6A*d*k*m*pp*α1^3*δ + 2*KDM6A*d*kk*m*p*α1^3*δ - 2*KDM6A*d*m*p*pp*α1^3*δ + MR^2*d^2*k0^2*m^2*p^2*α1^2 - 2*MR*d^2*k*k0*m^2*p*α1^3 + 2*MR*d^2*k0*m^2*p^2*α1^3 + d^2*k^2*m^2*α1^4 - 2*d^2*k*m^2*p*α1^4 + d^2*m^2*p^2*α1^4))/(2*d*k*m*p*(KDM6A*δ - α1)), KDM6A, (KDM6A*pp*δ + kk*α1 - pp*α1)/(kk*δ))\n",
       " ((KDM6A^2*pp*δ^2 + KDM6A*MR*d*k0*m*p*δ - KDM6A*d*k*m*α1*δ + KDM6A*d*m*p*α1*δ + KDM6A*kk*α1*δ - KDM6A*pp*α1*δ - MR*d*k0*m*p*α1 + d*k*m*α1^2 - d*m*p*α1^2 + sqrt(KDM6A^4*pp^2*δ^4 - 2*KDM6A^3*MR*d*k0*m*p*pp*δ^3 - 2*KDM6A^3*d*k*m*pp*α1*δ^3 - 2*KDM6A^3*d*m*p*pp*α1*δ^3 + 2*KDM6A^3*kk*pp*α1*δ^3 - 2*KDM6A^3*pp^2*α1*δ^3 + KDM6A^2*MR^2*d^2*k0^2*m^2*p^2*δ^2 - 2*KDM6A^2*MR*d^2*k*k0*m^2*p*α1*δ^2 + 2*KDM6A^2*MR*d^2*k0*m^2*p^2*α1*δ^2 - 2*KDM6A^2*MR*d*k0*kk*m*p*α1*δ^2 + 4*KDM6A^2*MR*d*k0*m*p*pp*α1*δ^2 + KDM6A^2*d^2*k^2*m^2*α1^2*δ^2 - 2*KDM6A^2*d^2*k*m^2*p*α1^2*δ^2 + KDM6A^2*d^2*m^2*p^2*α1^2*δ^2 - 2*KDM6A^2*d*k*kk*m*α1^2*δ^2 + 4*KDM6A^2*d*k*m*pp*α1^2*δ^2 - 2*KDM6A^2*d*kk*m*p*α1^2*δ^2 + 4*KDM6A^2*d*m*p*pp*α1^2*δ^2 + KDM6A^2*kk^2*α1^2*δ^2 - 2*KDM6A^2*kk*pp*α1^2*δ^2 + KDM6A^2*pp^2*α1^2*δ^2 - 2*KDM6A*MR^2*d^2*k0^2*m^2*p^2*α1*δ + 4*KDM6A*MR*d^2*k*k0*m^2*p*α1^2*δ - 4*KDM6A*MR*d^2*k0*m^2*p^2*α1^2*δ + 2*KDM6A*MR*d*k0*kk*m*p*α1^2*δ - 2*KDM6A*MR*d*k0*m*p*pp*α1^2*δ - 2*KDM6A*d^2*k^2*m^2*α1^3*δ + 4*KDM6A*d^2*k*m^2*p*α1^3*δ - 2*KDM6A*d^2*m^2*p^2*α1^3*δ + 2*KDM6A*d*k*kk*m*α1^3*δ - 2*KDM6A*d*k*m*pp*α1^3*δ + 2*KDM6A*d*kk*m*p*α1^3*δ - 2*KDM6A*d*m*p*pp*α1^3*δ + MR^2*d^2*k0^2*m^2*p^2*α1^2 - 2*MR*d^2*k*k0*m^2*p*α1^3 + 2*MR*d^2*k0*m^2*p^2*α1^3 + d^2*k^2*m^2*α1^4 - 2*d^2*k*m^2*p*α1^4 + d^2*m^2*p^2*α1^4))/(2*d*m*p*δ*(KDM6A*δ - α1)), (KDM6A*δ - α1)/kk, (KDM6A^2*pp*δ^2 + KDM6A*MR*d*k0*m*p*δ - KDM6A*d*k*m*α1*δ + KDM6A*d*m*p*α1*δ + KDM6A*kk*α1*δ - KDM6A*pp*α1*δ - MR*d*k0*m*p*α1 + d*k*m*α1^2 - d*m*p*α1^2 + sqrt(KDM6A^4*pp^2*δ^4 - 2*KDM6A^3*MR*d*k0*m*p*pp*δ^3 - 2*KDM6A^3*d*k*m*pp*α1*δ^3 - 2*KDM6A^3*d*m*p*pp*α1*δ^3 + 2*KDM6A^3*kk*pp*α1*δ^3 - 2*KDM6A^3*pp^2*α1*δ^3 + KDM6A^2*MR^2*d^2*k0^2*m^2*p^2*δ^2 - 2*KDM6A^2*MR*d^2*k*k0*m^2*p*α1*δ^2 + 2*KDM6A^2*MR*d^2*k0*m^2*p^2*α1*δ^2 - 2*KDM6A^2*MR*d*k0*kk*m*p*α1*δ^2 + 4*KDM6A^2*MR*d*k0*m*p*pp*α1*δ^2 + KDM6A^2*d^2*k^2*m^2*α1^2*δ^2 - 2*KDM6A^2*d^2*k*m^2*p*α1^2*δ^2 + KDM6A^2*d^2*m^2*p^2*α1^2*δ^2 - 2*KDM6A^2*d*k*kk*m*α1^2*δ^2 + 4*KDM6A^2*d*k*m*pp*α1^2*δ^2 - 2*KDM6A^2*d*kk*m*p*α1^2*δ^2 + 4*KDM6A^2*d*m*p*pp*α1^2*δ^2 + KDM6A^2*kk^2*α1^2*δ^2 - 2*KDM6A^2*kk*pp*α1^2*δ^2 + KDM6A^2*pp^2*α1^2*δ^2 - 2*KDM6A*MR^2*d^2*k0^2*m^2*p^2*α1*δ + 4*KDM6A*MR*d^2*k*k0*m^2*p*α1^2*δ - 4*KDM6A*MR*d^2*k0*m^2*p^2*α1^2*δ + 2*KDM6A*MR*d*k0*kk*m*p*α1^2*δ - 2*KDM6A*MR*d*k0*m*p*pp*α1^2*δ - 2*KDM6A*d^2*k^2*m^2*α1^3*δ + 4*KDM6A*d^2*k*m^2*p*α1^3*δ - 2*KDM6A*d^2*m^2*p^2*α1^3*δ + 2*KDM6A*d*k*kk*m*α1^3*δ - 2*KDM6A*d*k*m*pp*α1^3*δ + 2*KDM6A*d*kk*m*p*α1^3*δ - 2*KDM6A*d*m*p*pp*α1^3*δ + MR^2*d^2*k0^2*m^2*p^2*α1^2 - 2*MR*d^2*k*k0*m^2*p*α1^3 + 2*MR*d^2*k0*m^2*p^2*α1^3 + d^2*k^2*m^2*α1^4 - 2*d^2*k*m^2*p*α1^4 + d^2*m^2*p^2*α1^4))/(2*m*p*(KDM6A*pp*δ + kk*α1 - pp*α1)), (KDM6A^2*pp*δ^2 - KDM6A*MR*d*k0*m*p*δ + KDM6A*d*k*m*α1*δ - KDM6A*d*m*p*α1*δ + KDM6A*kk*α1*δ - KDM6A*pp*α1*δ + MR*d*k0*m*p*α1 - d*k*m*α1^2 + d*m*p*α1^2 + sqrt(KDM6A^4*pp^2*δ^4 - 2*KDM6A^3*MR*d*k0*m*p*pp*δ^3 - 2*KDM6A^3*d*k*m*pp*α1*δ^3 - 2*KDM6A^3*d*m*p*pp*α1*δ^3 + 2*KDM6A^3*kk*pp*α1*δ^3 - 2*KDM6A^3*pp^2*α1*δ^3 + KDM6A^2*MR^2*d^2*k0^2*m^2*p^2*δ^2 - 2*KDM6A^2*MR*d^2*k*k0*m^2*p*α1*δ^2 + 2*KDM6A^2*MR*d^2*k0*m^2*p^2*α1*δ^2 - 2*KDM6A^2*MR*d*k0*kk*m*p*α1*δ^2 + 4*KDM6A^2*MR*d*k0*m*p*pp*α1*δ^2 + KDM6A^2*d^2*k^2*m^2*α1^2*δ^2 - 2*KDM6A^2*d^2*k*m^2*p*α1^2*δ^2 + KDM6A^2*d^2*m^2*p^2*α1^2*δ^2 - 2*KDM6A^2*d*k*kk*m*α1^2*δ^2 + 4*KDM6A^2*d*k*m*pp*α1^2*δ^2 - 2*KDM6A^2*d*kk*m*p*α1^2*δ^2 + 4*KDM6A^2*d*m*p*pp*α1^2*δ^2 + KDM6A^2*kk^2*α1^2*δ^2 - 2*KDM6A^2*kk*pp*α1^2*δ^2 + KDM6A^2*pp^2*α1^2*δ^2 - 2*KDM6A*MR^2*d^2*k0^2*m^2*p^2*α1*δ + 4*KDM6A*MR*d^2*k*k0*m^2*p*α1^2*δ - 4*KDM6A*MR*d^2*k0*m^2*p^2*α1^2*δ + 2*KDM6A*MR*d*k0*kk*m*p*α1^2*δ - 2*KDM6A*MR*d*k0*m*p*pp*α1^2*δ - 2*KDM6A*d^2*k^2*m^2*α1^3*δ + 4*KDM6A*d^2*k*m^2*p*α1^3*δ - 2*KDM6A*d^2*m^2*p^2*α1^3*δ + 2*KDM6A*d*k*kk*m*α1^3*δ - 2*KDM6A*d*k*m*pp*α1^3*δ + 2*KDM6A*d*kk*m*p*α1^3*δ - 2*KDM6A*d*m*p*pp*α1^3*δ + MR^2*d^2*k0^2*m^2*p^2*α1^2 - 2*MR*d^2*k*k0*m^2*p*α1^3 + 2*MR*d^2*k0*m^2*p^2*α1^3 + d^2*k^2*m^2*α1^4 - 2*d^2*k*m^2*p*α1^4 + d^2*m^2*p^2*α1^4))/(2*d*k*m*δ*(KDM6A*δ - α1)), (KDM6A^2*pp*δ^2 - KDM6A*MR*d*k0*m*p*δ - KDM6A*d*k*m*α1*δ - KDM6A*d*m*p*α1*δ + KDM6A*kk*α1*δ - KDM6A*pp*α1*δ + MR*d*k0*m*p*α1 + d*k*m*α1^2 + d*m*p*α1^2 + sqrt(KDM6A^4*pp^2*δ^4 - 2*KDM6A^3*MR*d*k0*m*p*pp*δ^3 - 2*KDM6A^3*d*k*m*pp*α1*δ^3 - 2*KDM6A^3*d*m*p*pp*α1*δ^3 + 2*KDM6A^3*kk*pp*α1*δ^3 - 2*KDM6A^3*pp^2*α1*δ^3 + KDM6A^2*MR^2*d^2*k0^2*m^2*p^2*δ^2 - 2*KDM6A^2*MR*d^2*k*k0*m^2*p*α1*δ^2 + 2*KDM6A^2*MR*d^2*k0*m^2*p^2*α1*δ^2 - 2*KDM6A^2*MR*d*k0*kk*m*p*α1*δ^2 + 4*KDM6A^2*MR*d*k0*m*p*pp*α1*δ^2 + KDM6A^2*d^2*k^2*m^2*α1^2*δ^2 - 2*KDM6A^2*d^2*k*m^2*p*α1^2*δ^2 + KDM6A^2*d^2*m^2*p^2*α1^2*δ^2 - 2*KDM6A^2*d*k*kk*m*α1^2*δ^2 + 4*KDM6A^2*d*k*m*pp*α1^2*δ^2 - 2*KDM6A^2*d*kk*m*p*α1^2*δ^2 + 4*KDM6A^2*d*m*p*pp*α1^2*δ^2 + KDM6A^2*kk^2*α1^2*δ^2 - 2*KDM6A^2*kk*pp*α1^2*δ^2 + KDM6A^2*pp^2*α1^2*δ^2 - 2*KDM6A*MR^2*d^2*k0^2*m^2*p^2*α1*δ + 4*KDM6A*MR*d^2*k*k0*m^2*p*α1^2*δ - 4*KDM6A*MR*d^2*k0*m^2*p^2*α1^2*δ + 2*KDM6A*MR*d*k0*kk*m*p*α1^2*δ - 2*KDM6A*MR*d*k0*m*p*pp*α1^2*δ - 2*KDM6A*d^2*k^2*m^2*α1^3*δ + 4*KDM6A*d^2*k*m^2*p*α1^3*δ - 2*KDM6A*d^2*m^2*p^2*α1^3*δ + 2*KDM6A*d*k*kk*m*α1^3*δ - 2*KDM6A*d*k*m*pp*α1^3*δ + 2*KDM6A*d*kk*m*p*α1^3*δ - 2*KDM6A*d*m*p*pp*α1^3*δ + MR^2*d^2*k0^2*m^2*p^2*α1^2 - 2*MR*d^2*k*k0*m^2*p*α1^3 + 2*MR*d^2*k0*m^2*p^2*α1^3 + d^2*k^2*m^2*α1^4 - 2*d^2*k*m^2*p*α1^4 + d^2*m^2*p^2*α1^4))/(2*d*k*m*p*(KDM6A*δ - α1)), KDM6A, (KDM6A*pp*δ + kk*α1 - pp*α1)/(kk*δ))"
      ]
     },
     "metadata": {},
     "output_type": "display_data"
    }
   ],
   "source": [
    "fps = SymPy.solve(rhs, [KDM5A, H4, H0, PRC2, H27, KDM6A, KMT])"
   ]
  },
  {
   "cell_type": "code",
   "execution_count": 31,
   "metadata": {},
   "outputs": [
    {
     "data": {
      "text/latex": [
       "$\\frac{KDM6A^{2} pp δ^{2} + KDM6A MR d k_{0} m p δ - KDM6A d k m α_{1} δ + KDM6A d m p α_{1} δ + KDM6A kk α_{1} δ - KDM6A pp α_{1} δ - MR d k_{0} m p α_{1} + d k m α_{1}^{2} - d m p α_{1}^{2} - \\sqrt{KDM6A^{4} pp^{2} δ^{4} - 2 KDM6A^{3} MR d k_{0} m p pp δ^{3} - 2 KDM6A^{3} d k m pp α_{1} δ^{3} - 2 KDM6A^{3} d m p pp α_{1} δ^{3} + 2 KDM6A^{3} kk pp α_{1} δ^{3} - 2 KDM6A^{3} pp^{2} α_{1} δ^{3} + KDM6A^{2} MR^{2} d^{2} k_{0}^{2} m^{2} p^{2} δ^{2} - 2 KDM6A^{2} MR d^{2} k k_{0} m^{2} p α_{1} δ^{2} + 2 KDM6A^{2} MR d^{2} k_{0} m^{2} p^{2} α_{1} δ^{2} - 2 KDM6A^{2} MR d k_{0} kk m p α_{1} δ^{2} + 4 KDM6A^{2} MR d k_{0} m p pp α_{1} δ^{2} + KDM6A^{2} d^{2} k^{2} m^{2} α_{1}^{2} δ^{2} - 2 KDM6A^{2} d^{2} k m^{2} p α_{1}^{2} δ^{2} + KDM6A^{2} d^{2} m^{2} p^{2} α_{1}^{2} δ^{2} - 2 KDM6A^{2} d k kk m α_{1}^{2} δ^{2} + 4 KDM6A^{2} d k m pp α_{1}^{2} δ^{2} - 2 KDM6A^{2} d kk m p α_{1}^{2} δ^{2} + 4 KDM6A^{2} d m p pp α_{1}^{2} δ^{2} + KDM6A^{2} kk^{2} α_{1}^{2} δ^{2} - 2 KDM6A^{2} kk pp α_{1}^{2} δ^{2} + KDM6A^{2} pp^{2} α_{1}^{2} δ^{2} - 2 KDM6A MR^{2} d^{2} k_{0}^{2} m^{2} p^{2} α_{1} δ + 4 KDM6A MR d^{2} k k_{0} m^{2} p α_{1}^{2} δ - 4 KDM6A MR d^{2} k_{0} m^{2} p^{2} α_{1}^{2} δ + 2 KDM6A MR d k_{0} kk m p α_{1}^{2} δ - 2 KDM6A MR d k_{0} m p pp α_{1}^{2} δ - 2 KDM6A d^{2} k^{2} m^{2} α_{1}^{3} δ + 4 KDM6A d^{2} k m^{2} p α_{1}^{3} δ - 2 KDM6A d^{2} m^{2} p^{2} α_{1}^{3} δ + 2 KDM6A d k kk m α_{1}^{3} δ - 2 KDM6A d k m pp α_{1}^{3} δ + 2 KDM6A d kk m p α_{1}^{3} δ - 2 KDM6A d m p pp α_{1}^{3} δ + MR^{2} d^{2} k_{0}^{2} m^{2} p^{2} α_{1}^{2} - 2 MR d^{2} k k_{0} m^{2} p α_{1}^{3} + 2 MR d^{2} k_{0} m^{2} p^{2} α_{1}^{3} + d^{2} k^{2} m^{2} α_{1}^{4} - 2 d^{2} k m^{2} p α_{1}^{4} + d^{2} m^{2} p^{2} α_{1}^{4}}}{2 d m p δ \\left(KDM6A δ - α_{1}\\right)}$"
      ],
      "text/plain": [
       "                                                                              \n",
       "     2     2                                                                  \n",
       "KDM6A *pp*δ  + KDM6A*MR*d*k0*m*p*δ - KDM6A*d*k*m*α1*δ + KDM6A*d*m*p*α1*δ + KDM\n",
       "------------------------------------------------------------------------------\n",
       "                                                                              \n",
       "\n",
       "                                                                         _____\n",
       "                                                      2           2     /     \n",
       "6A*kk*α1*δ - KDM6A*pp*α1*δ - MR*d*k0*m*p*α1 + d*k*m*α1  - d*m*p*α1  - \\/  KDM6\n",
       "------------------------------------------------------------------------------\n",
       "                                                                              \n",
       "\n",
       "______________________________________________________________________________\n",
       " 4   2  4          3                 3          3              3          3   \n",
       "A *pp *δ  - 2*KDM6A *MR*d*k0*m*p*pp*δ  - 2*KDM6A *d*k*m*pp*α1*δ  - 2*KDM6A *d*\n",
       "------------------------------------------------------------------------------\n",
       "                                                                              \n",
       "\n",
       "______________________________________________________________________________\n",
       "           3          3           3          3   2     3        2   2  2   2  \n",
       "m*p*pp*α1*δ  + 2*KDM6A *kk*pp*α1*δ  - 2*KDM6A *pp *α1*δ  + KDM6A *MR *d *k0 *m\n",
       "------------------------------------------------------------------------------\n",
       "                                                                              \n",
       "\n",
       "______________________________________________________________________________\n",
       "2  2  2          2     2       2       2          2     2     2  2     2      \n",
       " *p *δ  - 2*KDM6A *MR*d *k*k0*m *p*α1*δ  + 2*KDM6A *MR*d *k0*m *p *α1*δ  - 2*K\n",
       "------------------------------------------------------------------------------\n",
       "                                                                              \n",
       "\n",
       "______________________________________________________________________________\n",
       "    2                    2          2                    2        2  2  2  2  \n",
       "DM6A *MR*d*k0*kk*m*p*α1*δ  + 4*KDM6A *MR*d*k0*m*p*pp*α1*δ  + KDM6A *d *k *m *α\n",
       "------------------------------------------------------------------------------\n",
       "                                                                              \n",
       "\n",
       "______________________________________________________________________________\n",
       " 2  2          2  2    2     2  2        2  2  2  2   2  2          2         \n",
       "1 *δ  - 2*KDM6A *d *k*m *p*α1 *δ  + KDM6A *d *m *p *α1 *δ  - 2*KDM6A *d*k*kk*m\n",
       "------------------------------------------------------------------------------\n",
       "                                                                              \n",
       "\n",
       "______________________________________________________________________________\n",
       "   2  2          2            2  2          2            2  2          2      \n",
       "*α1 *δ  + 4*KDM6A *d*k*m*pp*α1 *δ  - 2*KDM6A *d*kk*m*p*α1 *δ  + 4*KDM6A *d*m*p\n",
       "------------------------------------------------------------------------------\n",
       "                 2*d*m*p*δ*(KDM6A*δ - α1)                                     \n",
       "\n",
       "______________________________________________________________________________\n",
       "      2  2        2   2   2  2          2         2  2        2   2   2  2    \n",
       "*pp*α1 *δ  + KDM6A *kk *α1 *δ  - 2*KDM6A *kk*pp*α1 *δ  + KDM6A *pp *α1 *δ  - 2\n",
       "------------------------------------------------------------------------------\n",
       "                                                                              \n",
       "\n",
       "______________________________________________________________________________\n",
       "         2  2   2  2  2                    2       2     2                 2  \n",
       "*KDM6A*MR *d *k0 *m *p *α1*δ + 4*KDM6A*MR*d *k*k0*m *p*α1 *δ - 4*KDM6A*MR*d *k\n",
       "------------------------------------------------------------------------------\n",
       "                                                                              \n",
       "\n",
       "______________________________________________________________________________\n",
       "   2  2   2                              2                              2     \n",
       "0*m *p *α1 *δ + 2*KDM6A*MR*d*k0*kk*m*p*α1 *δ - 2*KDM6A*MR*d*k0*m*p*pp*α1 *δ - \n",
       "------------------------------------------------------------------------------\n",
       "                                                                              \n",
       "\n",
       "______________________________________________________________________________\n",
       "         2  2  2   3              2    2     3              2  2  2   3       \n",
       "2*KDM6A*d *k *m *α1 *δ + 4*KDM6A*d *k*m *p*α1 *δ - 2*KDM6A*d *m *p *α1 *δ + 2*\n",
       "------------------------------------------------------------------------------\n",
       "                                                                              \n",
       "\n",
       "______________________________________________________________________________\n",
       "                 3                        3                        3          \n",
       "KDM6A*d*k*kk*m*α1 *δ - 2*KDM6A*d*k*m*pp*α1 *δ + 2*KDM6A*d*kk*m*p*α1 *δ - 2*KDM\n",
       "------------------------------------------------------------------------------\n",
       "                                                                              \n",
       "\n",
       "______________________________________________________________________________\n",
       "              3       2  2   2  2  2   2         2       2     3         2    \n",
       "6A*d*m*p*pp*α1 *δ + MR *d *k0 *m *p *α1  - 2*MR*d *k*k0*m *p*α1  + 2*MR*d *k0*\n",
       "------------------------------------------------------------------------------\n",
       "                                                                              \n",
       "\n",
       "__________________________________________________________\n",
       " 2  2   3    2  2  2   4      2    2     4    2  2  2   4 \n",
       "m *p *α1  + d *k *m *α1  - 2*d *k*m *p*α1  + d *m *p *α1  \n",
       "----------------------------------------------------------\n",
       "                                                          "
      ]
     },
     "metadata": {},
     "output_type": "display_data"
    }
   ],
   "source": [
    "fps[1][1]"
   ]
  },
  {
   "cell_type": "code",
   "execution_count": null,
   "metadata": {},
   "outputs": [],
   "source": []
  },
  {
   "cell_type": "code",
   "execution_count": 29,
   "metadata": {},
   "outputs": [
    {
     "data": {
      "text/latex": [
       "$\\frac{KDM6A δ - α_{1}}{kk}$"
      ],
      "text/plain": [
       "KDM6A*δ - α1\n",
       "------------\n",
       "     kk     "
      ]
     },
     "metadata": {},
     "output_type": "display_data"
    }
   ],
   "source": [
    "fps[1][2] # steady states of H0, H27"
   ]
  },
  {
   "cell_type": "code",
   "execution_count": 30,
   "metadata": {},
   "outputs": [
    {
     "data": {
      "text/latex": [
       "$\\frac{KDM6A^{2} pp δ^{2} - KDM6A MR d k_{0} m p δ - KDM6A d k m α_{1} δ - KDM6A d m p α_{1} δ + KDM6A kk α_{1} δ - KDM6A pp α_{1} δ + MR d k_{0} m p α_{1} + d k m α_{1}^{2} + d m p α_{1}^{2} - \\sqrt{KDM6A^{4} pp^{2} δ^{4} - 2 KDM6A^{3} MR d k_{0} m p pp δ^{3} - 2 KDM6A^{3} d k m pp α_{1} δ^{3} - 2 KDM6A^{3} d m p pp α_{1} δ^{3} + 2 KDM6A^{3} kk pp α_{1} δ^{3} - 2 KDM6A^{3} pp^{2} α_{1} δ^{3} + KDM6A^{2} MR^{2} d^{2} k_{0}^{2} m^{2} p^{2} δ^{2} - 2 KDM6A^{2} MR d^{2} k k_{0} m^{2} p α_{1} δ^{2} + 2 KDM6A^{2} MR d^{2} k_{0} m^{2} p^{2} α_{1} δ^{2} - 2 KDM6A^{2} MR d k_{0} kk m p α_{1} δ^{2} + 4 KDM6A^{2} MR d k_{0} m p pp α_{1} δ^{2} + KDM6A^{2} d^{2} k^{2} m^{2} α_{1}^{2} δ^{2} - 2 KDM6A^{2} d^{2} k m^{2} p α_{1}^{2} δ^{2} + KDM6A^{2} d^{2} m^{2} p^{2} α_{1}^{2} δ^{2} - 2 KDM6A^{2} d k kk m α_{1}^{2} δ^{2} + 4 KDM6A^{2} d k m pp α_{1}^{2} δ^{2} - 2 KDM6A^{2} d kk m p α_{1}^{2} δ^{2} + 4 KDM6A^{2} d m p pp α_{1}^{2} δ^{2} + KDM6A^{2} kk^{2} α_{1}^{2} δ^{2} - 2 KDM6A^{2} kk pp α_{1}^{2} δ^{2} + KDM6A^{2} pp^{2} α_{1}^{2} δ^{2} - 2 KDM6A MR^{2} d^{2} k_{0}^{2} m^{2} p^{2} α_{1} δ + 4 KDM6A MR d^{2} k k_{0} m^{2} p α_{1}^{2} δ - 4 KDM6A MR d^{2} k_{0} m^{2} p^{2} α_{1}^{2} δ + 2 KDM6A MR d k_{0} kk m p α_{1}^{2} δ - 2 KDM6A MR d k_{0} m p pp α_{1}^{2} δ - 2 KDM6A d^{2} k^{2} m^{2} α_{1}^{3} δ + 4 KDM6A d^{2} k m^{2} p α_{1}^{3} δ - 2 KDM6A d^{2} m^{2} p^{2} α_{1}^{3} δ + 2 KDM6A d k kk m α_{1}^{3} δ - 2 KDM6A d k m pp α_{1}^{3} δ + 2 KDM6A d kk m p α_{1}^{3} δ - 2 KDM6A d m p pp α_{1}^{3} δ + MR^{2} d^{2} k_{0}^{2} m^{2} p^{2} α_{1}^{2} - 2 MR d^{2} k k_{0} m^{2} p α_{1}^{3} + 2 MR d^{2} k_{0} m^{2} p^{2} α_{1}^{3} + d^{2} k^{2} m^{2} α_{1}^{4} - 2 d^{2} k m^{2} p α_{1}^{4} + d^{2} m^{2} p^{2} α_{1}^{4}}}{2 d k m p \\left(KDM6A δ - α_{1}\\right)}$"
      ],
      "text/plain": [
       "                                                                              \n",
       "     2     2                                                                  \n",
       "KDM6A *pp*δ  - KDM6A*MR*d*k0*m*p*δ - KDM6A*d*k*m*α1*δ - KDM6A*d*m*p*α1*δ + KDM\n",
       "------------------------------------------------------------------------------\n",
       "                                                                              \n",
       "\n",
       "                                                                         _____\n",
       "                                                      2           2     /     \n",
       "6A*kk*α1*δ - KDM6A*pp*α1*δ + MR*d*k0*m*p*α1 + d*k*m*α1  + d*m*p*α1  - \\/  KDM6\n",
       "------------------------------------------------------------------------------\n",
       "                                                                              \n",
       "\n",
       "______________________________________________________________________________\n",
       " 4   2  4          3                 3          3              3          3   \n",
       "A *pp *δ  - 2*KDM6A *MR*d*k0*m*p*pp*δ  - 2*KDM6A *d*k*m*pp*α1*δ  - 2*KDM6A *d*\n",
       "------------------------------------------------------------------------------\n",
       "                                                                              \n",
       "\n",
       "______________________________________________________________________________\n",
       "           3          3           3          3   2     3        2   2  2   2  \n",
       "m*p*pp*α1*δ  + 2*KDM6A *kk*pp*α1*δ  - 2*KDM6A *pp *α1*δ  + KDM6A *MR *d *k0 *m\n",
       "------------------------------------------------------------------------------\n",
       "                                                                              \n",
       "\n",
       "______________________________________________________________________________\n",
       "2  2  2          2     2       2       2          2     2     2  2     2      \n",
       " *p *δ  - 2*KDM6A *MR*d *k*k0*m *p*α1*δ  + 2*KDM6A *MR*d *k0*m *p *α1*δ  - 2*K\n",
       "------------------------------------------------------------------------------\n",
       "                                                                              \n",
       "\n",
       "______________________________________________________________________________\n",
       "    2                    2          2                    2        2  2  2  2  \n",
       "DM6A *MR*d*k0*kk*m*p*α1*δ  + 4*KDM6A *MR*d*k0*m*p*pp*α1*δ  + KDM6A *d *k *m *α\n",
       "------------------------------------------------------------------------------\n",
       "                                                                              \n",
       "\n",
       "______________________________________________________________________________\n",
       " 2  2          2  2    2     2  2        2  2  2  2   2  2          2         \n",
       "1 *δ  - 2*KDM6A *d *k*m *p*α1 *δ  + KDM6A *d *m *p *α1 *δ  - 2*KDM6A *d*k*kk*m\n",
       "------------------------------------------------------------------------------\n",
       "                                                                              \n",
       "\n",
       "______________________________________________________________________________\n",
       "   2  2          2            2  2          2            2  2          2      \n",
       "*α1 *δ  + 4*KDM6A *d*k*m*pp*α1 *δ  - 2*KDM6A *d*kk*m*p*α1 *δ  + 4*KDM6A *d*m*p\n",
       "------------------------------------------------------------------------------\n",
       "                 2*d*k*m*p*(KDM6A*δ - α1)                                     \n",
       "\n",
       "______________________________________________________________________________\n",
       "      2  2        2   2   2  2          2         2  2        2   2   2  2    \n",
       "*pp*α1 *δ  + KDM6A *kk *α1 *δ  - 2*KDM6A *kk*pp*α1 *δ  + KDM6A *pp *α1 *δ  - 2\n",
       "------------------------------------------------------------------------------\n",
       "                                                                              \n",
       "\n",
       "______________________________________________________________________________\n",
       "         2  2   2  2  2                    2       2     2                 2  \n",
       "*KDM6A*MR *d *k0 *m *p *α1*δ + 4*KDM6A*MR*d *k*k0*m *p*α1 *δ - 4*KDM6A*MR*d *k\n",
       "------------------------------------------------------------------------------\n",
       "                                                                              \n",
       "\n",
       "______________________________________________________________________________\n",
       "   2  2   2                              2                              2     \n",
       "0*m *p *α1 *δ + 2*KDM6A*MR*d*k0*kk*m*p*α1 *δ - 2*KDM6A*MR*d*k0*m*p*pp*α1 *δ - \n",
       "------------------------------------------------------------------------------\n",
       "                                                                              \n",
       "\n",
       "______________________________________________________________________________\n",
       "         2  2  2   3              2    2     3              2  2  2   3       \n",
       "2*KDM6A*d *k *m *α1 *δ + 4*KDM6A*d *k*m *p*α1 *δ - 2*KDM6A*d *m *p *α1 *δ + 2*\n",
       "------------------------------------------------------------------------------\n",
       "                                                                              \n",
       "\n",
       "______________________________________________________________________________\n",
       "                 3                        3                        3          \n",
       "KDM6A*d*k*kk*m*α1 *δ - 2*KDM6A*d*k*m*pp*α1 *δ + 2*KDM6A*d*kk*m*p*α1 *δ - 2*KDM\n",
       "------------------------------------------------------------------------------\n",
       "                                                                              \n",
       "\n",
       "______________________________________________________________________________\n",
       "              3       2  2   2  2  2   2         2       2     3         2    \n",
       "6A*d*m*p*pp*α1 *δ + MR *d *k0 *m *p *α1  - 2*MR*d *k*k0*m *p*α1  + 2*MR*d *k0*\n",
       "------------------------------------------------------------------------------\n",
       "                                                                              \n",
       "\n",
       "__________________________________________________________\n",
       " 2  2   3    2  2  2   4      2    2     4    2  2  2   4 \n",
       "m *p *α1  + d *k *m *α1  - 2*d *k*m *p*α1  + d *m *p *α1  \n",
       "----------------------------------------------------------\n",
       "                                                          "
      ]
     },
     "metadata": {},
     "output_type": "display_data"
    }
   ],
   "source": [
    "fps[1][5]"
   ]
  },
  {
   "cell_type": "code",
   "execution_count": null,
   "metadata": {},
   "outputs": [],
   "source": []
  },
  {
   "cell_type": "code",
   "execution_count": null,
   "metadata": {},
   "outputs": [],
   "source": [
    "for  in \n",
    "    \n",
    "end"
   ]
  }
 ],
 "metadata": {
  "kernelspec": {
   "display_name": "Julia 1.6.6",
   "language": "julia",
   "name": "julia-1.6"
  },
  "language_info": {
   "file_extension": ".jl",
   "mimetype": "application/julia",
   "name": "julia",
   "version": "1.6.6"
  }
 },
 "nbformat": 4,
 "nbformat_minor": 4
}
