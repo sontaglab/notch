{
 "cells": [
  {
   "cell_type": "code",
   "execution_count": null,
   "metadata": {},
   "outputs": [],
   "source": [
    "# ======== Loading Pkgs and functions =========\n",
    "@time include(\"functions/preload.jl\")\n",
    "include(\"functions/helper_fun.jl\")\n",
    "show_avail_functions()\n",
    "# =============================================\n",
    "\n",
    "# ======= Loading model ======\n",
    "@time include(\"functions/models.jl\")\n",
    "# =================================\n",
    "\n",
    "# ======= Single gene case =======\n",
    "run_path = \"functions/single_gene_case.jl\"\n",
    "include(run_path);\n",
    "run_and_check_new_vars(run_path)\n",
    "# ============================================================"
   ]
  },
  {
   "cell_type": "markdown",
   "metadata": {},
   "source": [
    "---\n",
    "\n",
    "*This notebook was generated using [Literate.jl](https://github.com/fredrikekre/Literate.jl).*"
   ]
  }
 ],
 "metadata": {
  "kernelspec": {
   "display_name": "Julia 1.9.4",
   "language": "julia",
   "name": "julia-1.9"
  },
  "language_info": {
   "file_extension": ".jl",
   "mimetype": "application/julia",
   "name": "julia",
   "version": "1.9.4"
  }
 },
 "nbformat": 4,
 "nbformat_minor": 3
}
